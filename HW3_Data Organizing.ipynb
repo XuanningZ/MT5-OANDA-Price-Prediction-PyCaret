{
 "cells": [
  {
   "cell_type": "code",
   "execution_count": 17,
   "id": "8c40cea5",
   "metadata": {},
   "outputs": [],
   "source": [
    "import sqlite3\n",
    "import pandas as pd\n",
    "\n",
    "CURRENCY_PAIRS = [\"USDSEK\", \"CHFHKD\", \"AUDCHF\",\"EURCHF\",\"CADCHF\"]\n",
    "\n",
    "def first(pair):\n",
    "    conn = sqlite3.connect('dataset.db')\n",
    "    # Load data into a pandas dataframe\n",
    "    df = pd.read_csv(f'/Users/jason/dataset1/{pair}.csv')\n",
    "    cursor = conn.cursor()\n",
    "    # Write the data to a new table in the SQLite database\n",
    "    df.to_sql(f'{pair}', conn, if_exists='replace', index=False)\n",
    "    # Execute SQL queries on the database\n",
    "    cursor = conn.cursor()\n",
    "    # Hourly basis\n",
    "    cursor.execute(f\"\"\"\n",
    "    SELECT strftime('%Y-%m-%d %H:00:00', datetime) as Hour, AVG(vw) as Avg_VWAP, SUM(n) as Total_Transactions\n",
    "    FROM {pair}\n",
    "    GROUP BY Hour\n",
    "    \"\"\")\n",
    "    print(cursor.fetchall())\n",
    "    # Same starting date\n",
    "    cursor.execute(f\"\"\"\n",
    "    SELECT *\n",
    "    FROM {pair}\n",
    "    WHERE datetime >= '2011-01-01 00:00:00'\n",
    "    \"\"\")\n",
    "    print(cursor.fetchall())\n",
    "    # Same ending date\n",
    "    cursor.execute(f\"\"\"\n",
    "    SELECT *\n",
    "    FROM {pair}\n",
    "    WHERE datetime <= '2011-12-31 23:59:59'\n",
    "    \"\"\")\n",
    "    print(cursor.fetchall())\n",
    "    # Hourly price (VWAP)\n",
    "    cursor.execute(f\"\"\"\n",
    "    SELECT strftime('%Y-%m-%d %H:00:00', datetime) as Hour, AVG(vw) as Avg_VWAP\n",
    "    FROM {pair}\n",
    "    GROUP BY Hour\n",
    "    \"\"\")\n",
    "    print(cursor.fetchall())\n",
    "    # Hourly liquidity (number of transactions)\n",
    "    cursor.execute(f\"\"\"\n",
    "    SELECT \n",
    "    strftime('%Y-%m-%d %H:00:00', datetime) AS hour,\n",
    "    SUM(vw * v) / SUM(v) AS hourly_vwap,\n",
    "    SUM(v) AS hourly_liquidity\n",
    "    FROM {pair}\n",
    "    WHERE datetime BETWEEN '2011-01-01 00:00:00' AND '2011-12-31 23:59:59'\n",
    "    GROUP BY hour\n",
    "    \"\"\")\n",
    "    print(cursor.fetchall())\n",
    "    # Close the connection to the database\n",
    "    conn.close()\n",
    "\n",
    "def second(pair):\n",
    "    conn = sqlite3.connect('dataset.db')\n",
    "    # read data from the database into a pandas dataframe\n",
    "    df1 = pd.read_sql_query(f\"SELECT * FROM {pair}\", conn)\n",
    "\n",
    "    # convert the datetime column to a pandas datetime object\n",
    "    df1['datetime'] = pd.to_datetime(df1['datetime'])\n",
    "\n",
    "    # set the datetime column as the index\n",
    "    df1.set_index('datetime', inplace=True)\n",
    "\n",
    "    # resample the dataframe on an hourly basis\n",
    "    hourly_df = df1.resample('H').agg({'v': 'sum', \n",
    "                                   'vw': 'mean',\n",
    "                                   'o': 'first',\n",
    "                                   'c': 'last',\n",
    "                                   'h': 'max',\n",
    "                                   'l': 'min',\n",
    "                                   't': 'sum',\n",
    "                                   'n': 'sum'})\n",
    "\n",
    "    # calculate the hourly VWAP and hourly liquidity\n",
    "    hourly_df['hourly_vwap'] = hourly_df['vw'] * hourly_df['v']\n",
    "    hourly_df['hourly_liquidity'] = hourly_df['n']\n",
    "\n",
    "    # insert the hourly VWAP and hourly liquidity back into the database\n",
    "    hourly_df.to_sql(f'{pair}_hourly_data', conn, if_exists='replace')\n",
    "\n",
    "    conn.close()\n",
    "\n",
    "def third(pair):\n",
    "    conn = sqlite3.connect('dataset.db')\n",
    "    # read data from the database into a pandas dataframe\n",
    "    df2 = pd.read_sql_query(f\"SELECT * FROM {pair}_hourly_data\", conn)\n",
    "    \n",
    "    # convert the datetime column to a pandas datetime object\n",
    "    df2['datetime'] = pd.to_datetime(df2['datetime'])\n",
    "\n",
    "    # set the datetime column as the index\n",
    "    df2.set_index('datetime', inplace=True)\n",
    "\n",
    "    # resample the dataframe on an hourly basis\n",
    "    six_hourly_df = df2.resample('6H').agg({'v': 'mean',\n",
    "                                'vw': 'mean',\n",
    "                                'o': 'mean',\n",
    "                                'c': 'mean',\n",
    "                                'h': 'max',\n",
    "                                'l': 'min',\n",
    "                                't': 'mean',\n",
    "                                'n': 'mean',\n",
    "                                'hourly_vwap': 'mean',\n",
    "                                'hourly_liquidity': 'mean' })\n",
    "\n",
    "    # calculate fd\n",
    "    six_hourly_df['fd'] = six_hourly_df['n'] / (six_hourly_df['h'] - six_hourly_df['l'])\n",
    "\n",
    "    # insert the hourly VWAP and hourly liquidity back into the database\n",
    "    six_hourly_df.to_sql(f'{pair}_six_hourly_data', conn, if_exists='replace')\n",
    "    conn.close()"
   ]
  },
  {
   "cell_type": "code",
   "execution_count": 18,
   "id": "aaf8bef7",
   "metadata": {},
   "outputs": [],
   "source": [
    "def main():\n",
    "    for pair in CURRENCY_PAIRS:\n",
    "        first(pair)\n",
    "        second(pair)\n",
    "        third(pair)\n",
    "    "
   ]
  },
  {
   "cell_type": "code",
   "execution_count": 19,
   "id": "d60e7445",
   "metadata": {},
   "outputs": [
    {
     "name": "stdout",
     "output_type": "stream",
     "text": [
      "[(None, 6.491406940758405, 25684351)]\n"
     ]
    },
    {
     "name": "stderr",
     "output_type": "stream",
     "text": [
      "IOPub data rate exceeded.\n",
      "The notebook server will temporarily stop sending output\n",
      "to the client in order to avoid crashing it.\n",
      "To change this limit, set the config variable\n",
      "`--NotebookApp.iopub_data_rate_limit`.\n",
      "\n",
      "Current values:\n",
      "NotebookApp.iopub_data_rate_limit=1000000.0 (bytes/sec)\n",
      "NotebookApp.rate_limit_window=3.0 (secs)\n",
      "\n"
     ]
    },
    {
     "name": "stdout",
     "output_type": "stream",
     "text": [
      "[(None, 8.808090852689736, 6605102)]\n"
     ]
    },
    {
     "name": "stderr",
     "output_type": "stream",
     "text": [
      "IOPub data rate exceeded.\n",
      "The notebook server will temporarily stop sending output\n",
      "to the client in order to avoid crashing it.\n",
      "To change this limit, set the config variable\n",
      "`--NotebookApp.iopub_data_rate_limit`.\n",
      "\n",
      "Current values:\n",
      "NotebookApp.iopub_data_rate_limit=1000000.0 (bytes/sec)\n",
      "NotebookApp.rate_limit_window=3.0 (secs)\n",
      "\n"
     ]
    },
    {
     "name": "stdout",
     "output_type": "stream",
     "text": [
      "[(None, 0.9137804578933559, 50693947)]\n"
     ]
    },
    {
     "name": "stderr",
     "output_type": "stream",
     "text": [
      "IOPub data rate exceeded.\n",
      "The notebook server will temporarily stop sending output\n",
      "to the client in order to avoid crashing it.\n",
      "To change this limit, set the config variable\n",
      "`--NotebookApp.iopub_data_rate_limit`.\n",
      "\n",
      "Current values:\n",
      "NotebookApp.iopub_data_rate_limit=1000000.0 (bytes/sec)\n",
      "NotebookApp.rate_limit_window=3.0 (secs)\n",
      "\n"
     ]
    },
    {
     "name": "stdout",
     "output_type": "stream",
     "text": [
      "[(None, 1.2327545270448421, 42988806)]\n"
     ]
    },
    {
     "name": "stderr",
     "output_type": "stream",
     "text": [
      "IOPub data rate exceeded.\n",
      "The notebook server will temporarily stop sending output\n",
      "to the client in order to avoid crashing it.\n",
      "To change this limit, set the config variable\n",
      "`--NotebookApp.iopub_data_rate_limit`.\n",
      "\n",
      "Current values:\n",
      "NotebookApp.iopub_data_rate_limit=1000000.0 (bytes/sec)\n",
      "NotebookApp.rate_limit_window=3.0 (secs)\n",
      "\n"
     ]
    },
    {
     "name": "stdout",
     "output_type": "stream",
     "text": [
      "[(None, 1.0120248570840864, 21450981)]\n",
      "[(360374, '63abc4cfb405edb0add7478f', 4, 0.9387, 0.93875, 0.93875, 0.93875, 0.9387, 1293990000000.0, 4, '2011/1/2 17:00')]\n"
     ]
    },
    {
     "name": "stderr",
     "output_type": "stream",
     "text": [
      "IOPub data rate exceeded.\n",
      "The notebook server will temporarily stop sending output\n",
      "to the client in order to avoid crashing it.\n",
      "To change this limit, set the config variable\n",
      "`--NotebookApp.iopub_data_rate_limit`.\n",
      "\n",
      "Current values:\n",
      "NotebookApp.iopub_data_rate_limit=1000000.0 (bytes/sec)\n",
      "NotebookApp.rate_limit_window=3.0 (secs)\n",
      "\n"
     ]
    }
   ],
   "source": [
    "if __name__ == \"__main__\":\n",
    "    main()"
   ]
  },
  {
   "cell_type": "code",
   "execution_count": null,
   "id": "4c902877",
   "metadata": {},
   "outputs": [],
   "source": []
  }
 ],
 "metadata": {
  "kernelspec": {
   "display_name": "Python 3 (ipykernel)",
   "language": "python",
   "name": "python3"
  },
  "language_info": {
   "codemirror_mode": {
    "name": "ipython",
    "version": 3
   },
   "file_extension": ".py",
   "mimetype": "text/x-python",
   "name": "python",
   "nbconvert_exporter": "python",
   "pygments_lexer": "ipython3",
   "version": "3.10.9"
  }
 },
 "nbformat": 4,
 "nbformat_minor": 5
}
